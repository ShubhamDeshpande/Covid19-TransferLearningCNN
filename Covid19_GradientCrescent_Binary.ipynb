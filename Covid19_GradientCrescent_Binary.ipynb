{
 "cells": [
  {
   "cell_type": "markdown",
   "metadata": {
    "colab_type": "text",
    "id": "gyG4OC_n_Bgb"
   },
   "source": [
    "## COVID19 CT Pneumonia Detection - Binary Case\n",
    "\n",
    "100% Test Accuracy with 2 classes.\n",
    "\n",
    "Conclusion: For the binary case, it is possible to separate COVID-19 induced pneumonia from healthy lungs.\n",
    "\n",
    "\n"
   ]
  },
  {
   "cell_type": "code",
   "execution_count": 3,
   "metadata": {
    "colab": {
     "base_uri": "https://localhost:8080/",
     "height": 1000
    },
    "colab_type": "code",
    "executionInfo": {
     "elapsed": 15439,
     "status": "ok",
     "timestamp": 1584624724363,
     "user": {
      "displayName": "Yijie Xu",
      "photoUrl": "",
      "userId": "14695674479284134427"
     },
     "user_tz": -60
    },
    "id": "JHtRS9Wf9mZc",
    "outputId": "6232d401-3427-452a-e5b3-4afcf9f685da"
   },
   "outputs": [],
   "source": [
    "from numpy.random import seed\n",
    "seed(8)\n",
    "import tensorflow as tf\n",
    "tf.random.set_seed(7) \n",
    "import numpy as np # linear algebra\n",
    "import pandas as pd # data processing, CSV file I/O (e.g. pd.read_csv)\n",
    "import os"
   ]
  },
  {
   "cell_type": "code",
   "execution_count": 0,
   "metadata": {
    "colab": {
     "base_uri": "https://localhost:8080/",
     "height": 35
    },
    "colab_type": "code",
    "executionInfo": {
     "elapsed": 17003,
     "status": "ok",
     "timestamp": 1584624725944,
     "user": {
      "displayName": "Yijie Xu",
      "photoUrl": "",
      "userId": "14695674479284134427"
     },
     "user_tz": -60
    },
    "id": "cvTuKxbA_6Qx",
    "outputId": "e99ceca9-f14c-4424-ca42-67900971be56"
   },
   "outputs": [
    {
     "name": "stdout",
     "output_type": "stream",
     "text": [
      "['.config', 'Covid_Data_GradientCrescent.zip', 'all', 'two', 'sample_data']\n"
     ]
    }
   ],
   "source": []
  },
  {
   "cell_type": "code",
   "execution_count": 6,
   "metadata": {
    "colab": {
     "base_uri": "https://localhost:8080/",
     "height": 35
    },
    "colab_type": "code",
    "executionInfo": {
     "elapsed": 16993,
     "status": "ok",
     "timestamp": 1584624725949,
     "user": {
      "displayName": "Yijie Xu",
      "photoUrl": "",
      "userId": "14695674479284134427"
     },
     "user_tz": -60
    },
    "id": "923QFSnj-E_1",
    "outputId": "c772bf26-9806-48ad-de01-7b6cd2e565fe"
   },
   "outputs": [
    {
     "data": {
      "text/plain": [
       "['normal', 'covid']"
      ]
     },
     "execution_count": 6,
     "metadata": {},
     "output_type": "execute_result"
    }
   ],
   "source": [
    "from os import listdir\n",
    "data_list = listdir('data/two/train')\n",
    "data_list"
   ]
  },
  {
   "cell_type": "markdown",
   "metadata": {
    "colab_type": "text",
    "id": "SW7NXqkh-Gk8"
   },
   "source": [
    "Case 1: COVID vs Normal\n",
    "VGG Initialization"
   ]
  },
  {
   "cell_type": "code",
   "execution_count": 7,
   "metadata": {
    "colab": {
     "base_uri": "https://localhost:8080/",
     "height": 126
    },
    "colab_type": "code",
    "executionInfo": {
     "elapsed": 17582,
     "status": "ok",
     "timestamp": 1584624726558,
     "user": {
      "displayName": "Yijie Xu",
      "photoUrl": "",
      "userId": "14695674479284134427"
     },
     "user_tz": -60
    },
    "id": "0BfmpmKd-JOb",
    "outputId": "0ed39715-2244-4318-f2dd-523a04b7eb3e"
   },
   "outputs": [
    {
     "name": "stderr",
     "output_type": "stream",
     "text": [
      "Using TensorFlow backend.\n",
      "/home/shubham/anaconda3/envs/my_env/lib/python3.6/site-packages/keras_preprocessing/image/image_data_generator.py:341: UserWarning: This ImageDataGenerator specifies `zca_whitening` which overrides setting of`featurewise_std_normalization`.\n",
      "  warnings.warn('This ImageDataGenerator specifies '\n"
     ]
    },
    {
     "name": "stdout",
     "output_type": "stream",
     "text": [
      "Found 104 images belonging to 2 classes.\n",
      "Found 26 images belonging to 2 classes.\n"
     ]
    }
   ],
   "source": [
    "from tensorflow.keras import backend as K\n",
    "from tensorflow.keras.models import Model ,load_model\n",
    "from tensorflow.keras.layers import Flatten, Dense, Dropout\n",
    "from tensorflow.keras.applications.inception_resnet_v2 import InceptionResNetV2, preprocess_input\n",
    "from keras.applications.vgg16 import preprocess_input\n",
    "from keras.applications.vgg16 import decode_predictions\n",
    "from keras.applications.vgg16 import VGG16\n",
    "from tensorflow.keras.optimizers import Adam, RMSprop\n",
    "from tensorflow.keras.preprocessing.image import ImageDataGenerator\n",
    "from tensorflow.keras.callbacks import ModelCheckpoint\n",
    "import numpy as np\n",
    "import tensorflow as tf\n",
    "\n",
    "\n",
    "DATASET_PATH  = 'data/two/train'\n",
    "test_dir =  'data/two/test'\n",
    "IMAGE_SIZE    = (150, 150)\n",
    "NUM_CLASSES   = len(data_list)\n",
    "BATCH_SIZE    = 10  # try reducing batch size or freeze more layers if your GPU runs out of memory\n",
    "NUM_EPOCHS    = 20\n",
    "LEARNING_RATE =0.0005 #start off with high rate first 0.001 #5e-4\n",
    "\n",
    "\n",
    "\n",
    "\n",
    "#Train datagen here is a preprocessor\n",
    "train_datagen = ImageDataGenerator(rescale=1./255,\n",
    "                                   rotation_range=50,\n",
    "                                   featurewise_center = True,\n",
    "                                   featurewise_std_normalization = True,\n",
    "                                   width_shift_range=0.2,\n",
    "                                   height_shift_range=0.2,\n",
    "                                   shear_range=0.25,\n",
    "                                   zoom_range=0.1,\n",
    "                                   zca_whitening = True,\n",
    "                                   channel_shift_range = 20,\n",
    "                                   horizontal_flip = True ,\n",
    "                                   vertical_flip = True ,\n",
    "                                   validation_split = 0.2,\n",
    "                                   fill_mode='constant')\n",
    "\n",
    "train_batches = train_datagen.flow_from_directory(DATASET_PATH,\n",
    "                                                  target_size=IMAGE_SIZE,\n",
    "                                                  shuffle=True,\n",
    "                                                  batch_size=BATCH_SIZE,\n",
    "                                                  subset = \"training\",\n",
    "                                                  seed=42,\n",
    "                                                  class_mode=\"binary\",\n",
    "                                                  )\n",
    "\n",
    "valid_batches = train_datagen.flow_from_directory(DATASET_PATH,\n",
    "                                                  target_size=IMAGE_SIZE,\n",
    "                                                  shuffle=True,\n",
    "                                                  batch_size=BATCH_SIZE,\n",
    "                                                  subset = \"validation\",\n",
    "                                                  seed=42,\n",
    "                                                  class_mode=\"binary\",\n",
    "                                                  )\n",
    "\n"
   ]
  },
  {
   "cell_type": "markdown",
   "metadata": {
    "colab_type": "text",
    "id": "Arc_63PU-O5K"
   },
   "source": [
    "Layer Modification at upper layer of VGG16"
   ]
  },
  {
   "cell_type": "code",
   "execution_count": 8,
   "metadata": {
    "colab": {
     "base_uri": "https://localhost:8080/",
     "height": 552
    },
    "colab_type": "code",
    "executionInfo": {
     "elapsed": 25669,
     "status": "ok",
     "timestamp": 1584624734649,
     "user": {
      "displayName": "Yijie Xu",
      "photoUrl": "",
      "userId": "14695674479284134427"
     },
     "user_tz": -60
    },
    "id": "lyGm7tYQBBr1",
    "outputId": "cd4d4ff4-5277-485b-8123-ec5173b71eeb"
   },
   "outputs": [
    {
     "name": "stdout",
     "output_type": "stream",
     "text": [
      "Downloading data from https://github.com/fchollet/deep-learning-models/releases/download/v0.1/vgg16_weights_tf_dim_ordering_tf_kernels_notop.h5\n",
      "58892288/58889256 [==============================] - 3s 0us/step\n"
     ]
    }
   ],
   "source": [
    "#Simple CNN model based on VGG16\n",
    "\n",
    "from keras import models\n",
    "from keras import layers\n",
    "from keras.applications import VGG16\n",
    "from keras import optimizers\n",
    "from keras.layers.core import Flatten, Dense, Dropout, Lambda\n",
    "\n",
    "conv_base = VGG16(weights='imagenet',include_top=False,input_shape=(150, 150, 3))\n",
    "conv_base.trainable = False\n",
    "\n",
    "model = models.Sequential()\n",
    "model.add(conv_base)\n",
    "model.add(layers.Flatten())\n",
    "model.add(layers.Dense(256, activation='relu'))\n",
    "model.add(layers.Dense(1, activation='sigmoid'))\n",
    "\n",
    "model.compile(loss='binary_crossentropy',optimizer=optimizers.Adam(lr=LEARNING_RATE),metrics=['acc'])"
   ]
  },
  {
   "cell_type": "code",
   "execution_count": 10,
   "metadata": {
    "colab": {
     "base_uri": "https://localhost:8080/",
     "height": 319
    },
    "colab_type": "code",
    "executionInfo": {
     "elapsed": 25660,
     "status": "ok",
     "timestamp": 1584624734651,
     "user": {
      "displayName": "Yijie Xu",
      "photoUrl": "",
      "userId": "14695674479284134427"
     },
     "user_tz": -60
    },
    "id": "GKDLJZjL-UlA",
    "outputId": "968a2d21-f8af-4658-9427-74a41817c27e"
   },
   "outputs": [
    {
     "name": "stdout",
     "output_type": "stream",
     "text": [
      "Model: \"sequential_1\"\n",
      "_________________________________________________________________\n",
      "Layer (type)                 Output Shape              Param #   \n",
      "=================================================================\n",
      "vgg16 (Model)                (None, 4, 4, 512)         14714688  \n",
      "_________________________________________________________________\n",
      "flatten_1 (Flatten)          (None, 8192)              0         \n",
      "_________________________________________________________________\n",
      "dense_1 (Dense)              (None, 256)               2097408   \n",
      "_________________________________________________________________\n",
      "dense_2 (Dense)              (None, 1)                 257       \n",
      "=================================================================\n",
      "Total params: 16,812,353\n",
      "Trainable params: 2,097,665\n",
      "Non-trainable params: 14,714,688\n",
      "_________________________________________________________________\n",
      "None\n"
     ]
    }
   ],
   "source": [
    "print(model.summary())"
   ]
  },
  {
   "cell_type": "markdown",
   "metadata": {
    "colab_type": "text",
    "id": "qh3QQZLz-yLW"
   },
   "source": [
    "Training"
   ]
  },
  {
   "cell_type": "code",
   "execution_count": 11,
   "metadata": {
    "colab": {
     "base_uri": "https://localhost:8080/",
     "height": 926
    },
    "colab_type": "code",
    "executionInfo": {
     "elapsed": 101348,
     "status": "ok",
     "timestamp": 1584624810351,
     "user": {
      "displayName": "Yijie Xu",
      "photoUrl": "",
      "userId": "14695674479284134427"
     },
     "user_tz": -60
    },
    "id": "F7IwDhx5-iKe",
    "outputId": "f15de9b4-30cb-4445-95f4-5572283e430f"
   },
   "outputs": [
    {
     "name": "stdout",
     "output_type": "stream",
     "text": [
      "11\n",
      "3\n",
      "Epoch 1/20\n"
     ]
    },
    {
     "name": "stderr",
     "output_type": "stream",
     "text": [
      "/home/shubham/anaconda3/envs/my_env/lib/python3.6/site-packages/keras_preprocessing/image/image_data_generator.py:716: UserWarning: This ImageDataGenerator specifies `featurewise_center`, but it hasn't been fit on any training data. Fit it first by calling `.fit(numpy_data)`.\n",
      "  warnings.warn('This ImageDataGenerator specifies '\n",
      "/home/shubham/anaconda3/envs/my_env/lib/python3.6/site-packages/keras_preprocessing/image/image_data_generator.py:735: UserWarning: This ImageDataGenerator specifies `zca_whitening`, but it hasn't been fit on any training data. Fit it first by calling `.fit(numpy_data)`.\n",
      "  warnings.warn('This ImageDataGenerator specifies '\n"
     ]
    },
    {
     "name": "stdout",
     "output_type": "stream",
     "text": [
      "10/10 [==============================] - 15s 1s/step - loss: 0.7845 - acc: 0.5426 - val_loss: 0.5507 - val_acc: 0.7500\n",
      "Epoch 2/20\n",
      "10/10 [==============================] - 13s 1s/step - loss: 0.3659 - acc: 0.8100 - val_loss: 0.4199 - val_acc: 0.7500\n",
      "Epoch 3/20\n",
      "10/10 [==============================] - 14s 1s/step - loss: 0.3341 - acc: 0.8830 - val_loss: 0.1050 - val_acc: 0.8750\n",
      "Epoch 4/20\n",
      "10/10 [==============================] - 15s 1s/step - loss: 0.1708 - acc: 0.9255 - val_loss: 0.0966 - val_acc: 0.9000\n",
      "Epoch 5/20\n",
      "10/10 [==============================] - 15s 1s/step - loss: 0.3158 - acc: 0.9318 - val_loss: 0.2117 - val_acc: 0.9375\n",
      "Epoch 6/20\n",
      "10/10 [==============================] - 15s 2s/step - loss: 0.2800 - acc: 0.8511 - val_loss: 0.3487 - val_acc: 0.8750\n",
      "Epoch 7/20\n",
      "10/10 [==============================] - 15s 1s/step - loss: 0.1994 - acc: 0.9200 - val_loss: 0.2473 - val_acc: 0.8000\n",
      "Epoch 8/20\n",
      "10/10 [==============================] - 14s 1s/step - loss: 0.1610 - acc: 0.9205 - val_loss: 0.0909 - val_acc: 0.9375\n",
      "Epoch 9/20\n",
      "10/10 [==============================] - 17s 2s/step - loss: 0.1510 - acc: 0.9500 - val_loss: 0.0295 - val_acc: 1.0000\n",
      "Epoch 10/20\n",
      "10/10 [==============================] - 17s 2s/step - loss: 0.1742 - acc: 0.9362 - val_loss: 0.5075 - val_acc: 0.8500\n",
      "Epoch 11/20\n",
      "10/10 [==============================] - 16s 2s/step - loss: 0.2651 - acc: 0.9043 - val_loss: 0.2211 - val_acc: 0.8750\n",
      "Epoch 12/20\n",
      "10/10 [==============================] - 16s 2s/step - loss: 0.2287 - acc: 0.9255 - val_loss: 0.1729 - val_acc: 0.9375\n",
      "Epoch 13/20\n",
      "10/10 [==============================] - 17s 2s/step - loss: 0.2053 - acc: 0.9149 - val_loss: 0.0738 - val_acc: 0.9500\n",
      "Epoch 14/20\n",
      "10/10 [==============================] - 17s 2s/step - loss: 0.2387 - acc: 0.9300 - val_loss: 0.3323 - val_acc: 0.8750\n",
      "Epoch 15/20\n",
      "10/10 [==============================] - 16s 2s/step - loss: 0.2158 - acc: 0.9362 - val_loss: 0.1557 - val_acc: 0.8750\n",
      "Epoch 16/20\n",
      "10/10 [==============================] - 17s 2s/step - loss: 0.2015 - acc: 0.8936 - val_loss: 0.1668 - val_acc: 0.9500\n",
      "Epoch 17/20\n",
      "10/10 [==============================] - 17s 2s/step - loss: 0.1284 - acc: 0.9545 - val_loss: 0.0317 - val_acc: 1.0000\n",
      "Epoch 18/20\n",
      "10/10 [==============================] - 18s 2s/step - loss: 0.1144 - acc: 0.9700 - val_loss: 0.0019 - val_acc: 0.9375\n",
      "Epoch 19/20\n",
      "10/10 [==============================] - 18s 2s/step - loss: 0.0654 - acc: 1.0000 - val_loss: 0.0622 - val_acc: 0.9500\n",
      "Epoch 20/20\n",
      "10/10 [==============================] - 17s 2s/step - loss: 0.1325 - acc: 0.9787 - val_loss: 0.2211 - val_acc: 0.9375\n"
     ]
    }
   ],
   "source": [
    "print(len(train_batches))\n",
    "print(len(valid_batches))\n",
    "\n",
    "STEP_SIZE_TRAIN=train_batches.n//train_batches.batch_size\n",
    "STEP_SIZE_VALID=valid_batches.n//valid_batches.batch_size\n",
    "\n",
    "result=model.fit_generator(train_batches,\n",
    "                        steps_per_epoch =STEP_SIZE_TRAIN,\n",
    "                        validation_data = valid_batches,\n",
    "                        validation_steps = STEP_SIZE_VALID,\n",
    "                        epochs= NUM_EPOCHS,                         \n",
    "                       )\n",
    "\n"
   ]
  },
  {
   "cell_type": "markdown",
   "metadata": {
    "colab_type": "text",
    "id": "dBYyDVtmzdB1"
   },
   "source": [
    "Evaluation"
   ]
  },
  {
   "cell_type": "code",
   "execution_count": 12,
   "metadata": {
    "colab": {
     "base_uri": "https://localhost:8080/",
     "height": 429
    },
    "colab_type": "code",
    "executionInfo": {
     "elapsed": 101960,
     "status": "ok",
     "timestamp": 1584624810976,
     "user": {
      "displayName": "Yijie Xu",
      "photoUrl": "",
      "userId": "14695674479284134427"
     },
     "user_tz": -60
    },
    "id": "tNIFRzOvp1yA",
    "outputId": "b9a2906a-1900-42b4-d481-56ed1a2c86ac"
   },
   "outputs": [
    {
     "data": {
      "image/png": "[encoded data removed]",
      "text/plain": [
       "<Figure size 1080x360 with 2 Axes>"
      ]
     },
     "metadata": {
      "needs_background": "light"
     },
     "output_type": "display_data"
    }
   ],
   "source": [
    "import matplotlib.pyplot as plt\n",
    "\n",
    "\n",
    "def plot_acc_loss(result, epochs):\n",
    "    acc = result.history['acc']\n",
    "    loss = result.history['loss']\n",
    "    val_acc = result.history['val_acc']\n",
    "    val_loss = result.history['val_loss']\n",
    "    plt.figure(figsize=(15, 5))\n",
    "    plt.subplot(121)\n",
    "    plt.plot(range(1,epochs), acc[1:], label='Train_acc')\n",
    "    plt.plot(range(1,epochs), val_acc[1:], label='Test_acc')\n",
    "    plt.title('Accuracy over ' + str(epochs) + ' Epochs', size=15)\n",
    "    plt.legend()\n",
    "    plt.grid(True)\n",
    "    plt.subplot(122)\n",
    "    plt.plot(range(1,epochs), loss[1:], label='Train_loss')\n",
    "    plt.plot(range(1,epochs), val_loss[1:], label='Test_loss')\n",
    "    plt.title('Loss over ' + str(epochs) + ' Epochs', size=15)\n",
    "    plt.legend()\n",
    "    plt.grid(True)\n",
    "    plt.show()\n",
    "    \n",
    "plot_acc_loss(result, 20)"
   ]
  },
  {
   "cell_type": "code",
   "execution_count": 13,
   "metadata": {
    "colab": {
     "base_uri": "https://localhost:8080/",
     "height": 108
    },
    "colab_type": "code",
    "executionInfo": {
     "elapsed": 101950,
     "status": "ok",
     "timestamp": 1584624810980,
     "user": {
      "displayName": "Yijie Xu",
      "photoUrl": "",
      "userId": "14695674479284134427"
     },
     "user_tz": -60
    },
    "id": "g1W_MvpGJ39q",
    "outputId": "ea6a0c37-4cfb-4101-b5a2-711ad51d9f7b"
   },
   "outputs": [],
   "source": [
    "model.save('Covid_Binary.h5')"
   ]
  },
  {
   "cell_type": "code",
   "execution_count": 14,
   "metadata": {
    "colab": {
     "base_uri": "https://localhost:8080/",
     "height": 35
    },
    "colab_type": "code",
    "executionInfo": {
     "elapsed": 784,
     "status": "ok",
     "timestamp": 1584625152692,
     "user": {
      "displayName": "Yijie Xu",
      "photoUrl": "",
      "userId": "14695674479284134427"
     },
     "user_tz": -60
    },
    "id": "B1Qqa6YG-6kB",
    "outputId": "34051ac4-d8d5-4564-fd90-11f1378c00cd"
   },
   "outputs": [
    {
     "name": "stdout",
     "output_type": "stream",
     "text": [
      "Found 18 images belonging to 2 classes.\n"
     ]
    }
   ],
   "source": [
    "\n",
    "#Dont forget shuffle false. Note that Shuffle False is necessary for predict generator due to Keras's internal shuffling.\n",
    "#But for true accuracy values in evaluate_generator we should use shuffle_true.\n",
    "#In this case, the accuracy values are the same, but the same IS NOT true for the multiclass case.\n",
    "#See https://github.com/keras-team/keras/issues/6499\n",
    "test_datagen = ImageDataGenerator(rescale=1. / 255)\n",
    "\n",
    "eval_generator = test_datagen.flow_from_directory(\n",
    "        test_dir,target_size=IMAGE_SIZE,\n",
    "        batch_size=1,\n",
    "        shuffle=False,\n",
    "        seed=42,\n",
    "        \n",
    "        \n",
    "        class_mode=\"binary\")\n",
    "eval_generator.reset()    \n",
    "\n"
   ]
  },
  {
   "cell_type": "code",
   "execution_count": 15,
   "metadata": {
    "colab": {
     "base_uri": "https://localhost:8080/",
     "height": 70
    },
    "colab_type": "code",
    "executionInfo": {
     "elapsed": 1017,
     "status": "ok",
     "timestamp": 1584625152944,
     "user": {
      "displayName": "Yijie Xu",
      "photoUrl": "",
      "userId": "14695674479284134427"
     },
     "user_tz": -60
    },
    "id": "OruQrAjTAbly",
    "outputId": "bb96bae3-1b76-45ac-df0b-48c35586842b"
   },
   "outputs": [
    {
     "name": "stdout",
     "output_type": "stream",
     "text": [
      "2/2 [==============================] - 0s 210ms/step\n",
      "Test loss: 0.02255120500922203\n",
      "Test accuracy: 1.0\n"
     ]
    }
   ],
   "source": [
    "\n",
    "eval_generator.reset()  \n",
    "x = model.evaluate_generator(eval_generator,\n",
    "                           steps = np.ceil(len(eval_generator) / BATCH_SIZE),\n",
    "                           use_multiprocessing = False,\n",
    "                           verbose = 1,\n",
    "                           workers=1\n",
    "                           )\n",
    "\n",
    "\n",
    "print('Test loss:' , x[0])\n",
    "print('Test accuracy:',x[1])\n",
    "\n"
   ]
  },
  {
   "cell_type": "markdown",
   "metadata": {
    "colab_type": "text",
    "id": "JL6Qxxl9-8If"
   },
   "source": [
    "Predict"
   ]
  },
  {
   "cell_type": "code",
   "execution_count": 16,
   "metadata": {
    "colab": {
     "base_uri": "https://localhost:8080/",
     "height": 52
    },
    "colab_type": "code",
    "executionInfo": {
     "elapsed": 34949,
     "status": "ok",
     "timestamp": 1584625186907,
     "user": {
      "displayName": "Yijie Xu",
      "photoUrl": "",
      "userId": "14695674479284134427"
     },
     "user_tz": -60
    },
    "id": "-pXEPz0hLnwk",
    "outputId": "6a767be8-f748-4737-f9f5-399802aab31e"
   },
   "outputs": [
    {
     "name": "stdout",
     "output_type": "stream",
     "text": [
      "1000/1000 [==============================] - 162s 162ms/step\n",
      "Predictions finished\n"
     ]
    }
   ],
   "source": [
    "eval_generator.reset()  \n",
    "pred = model.predict_generator(eval_generator,1000,verbose=1)\n",
    "print(\"Predictions finished\")\n",
    "\n",
    "\n",
    "\n",
    "\n"
   ]
  },
  {
   "cell_type": "code",
   "execution_count": 17,
   "metadata": {
    "colab": {
     "base_uri": "https://localhost:8080/",
     "height": 1000
    },
    "colab_type": "code",
    "executionInfo": {
     "elapsed": 42537,
     "status": "error",
     "timestamp": 1584625194543,
     "user": {
      "displayName": "Yijie Xu",
      "photoUrl": "",
      "userId": "14695674479284134427"
     },
     "user_tz": -60
    },
    "id": "gFov8_iNkn1e",
    "outputId": "b427d183-cde8-41bc-b616-55fbf37bb47f"
   },
   "outputs": [
    {
     "ename": "ModuleNotFoundError",
     "evalue": "No module named 'cv2'",
     "output_type": "error",
     "traceback": [
      "\u001b[0;31m---------------------------------------------------------------------------\u001b[0m",
      "\u001b[0;31mModuleNotFoundError\u001b[0m                       Traceback (most recent call last)",
      "\u001b[0;32m<ipython-input-17-2a23d664a81b>\u001b[0m in \u001b[0;36m<module>\u001b[0;34m\u001b[0m\n\u001b[0;32m----> 1\u001b[0;31m \u001b[0;32mimport\u001b[0m \u001b[0mcv2\u001b[0m\u001b[0;34m\u001b[0m\u001b[0;34m\u001b[0m\u001b[0m\n\u001b[0m\u001b[1;32m      2\u001b[0m \u001b[0;34m\u001b[0m\u001b[0m\n\u001b[1;32m      3\u001b[0m \u001b[0;34m\u001b[0m\u001b[0m\n\u001b[1;32m      4\u001b[0m \u001b[0;32mimport\u001b[0m \u001b[0mmatplotlib\u001b[0m\u001b[0;34m.\u001b[0m\u001b[0mimage\u001b[0m \u001b[0;32mas\u001b[0m \u001b[0mmpimg\u001b[0m\u001b[0;34m\u001b[0m\u001b[0;34m\u001b[0m\u001b[0m\n\u001b[1;32m      5\u001b[0m \u001b[0;32mfor\u001b[0m \u001b[0mindex\u001b[0m\u001b[0;34m,\u001b[0m \u001b[0mprobability\u001b[0m \u001b[0;32min\u001b[0m \u001b[0menumerate\u001b[0m\u001b[0;34m(\u001b[0m\u001b[0mpred\u001b[0m\u001b[0;34m)\u001b[0m\u001b[0;34m:\u001b[0m\u001b[0;34m\u001b[0m\u001b[0;34m\u001b[0m\u001b[0m\n",
      "\u001b[0;31mModuleNotFoundError\u001b[0m: No module named 'cv2'"
     ]
    }
   ],
   "source": [
    "import cv2\n",
    "\n",
    "\n",
    "import matplotlib.image as mpimg\n",
    "for index, probability in enumerate(pred):\n",
    "    image_path = test_dir + \"/\" +eval_generator.filenames[index]\n",
    "    image = mpimg.imread(image_path)\n",
    "    #BGR TO RGB conversion using CV2\n",
    "    image = cv2.cvtColor(image, cv2.COLOR_BGR2RGB)\n",
    "\n",
    "    pixels = np.array(image)\n",
    "    plt.imshow(pixels)\n",
    "    \n",
    "    print(eval_generator.filenames[index])\n",
    "    if probability > 0.5:\n",
    "        plt.title(\"%.2f\" % (probability[0]*100) + \"% Normal\")\n",
    "    else:\n",
    "        plt.title(\"%.2f\" % ((1-probability[0])*100) + \"% COVID19 Pneumonia\")\n",
    "    plt.show()"
   ]
  },
  {
   "cell_type": "code",
   "execution_count": null,
   "metadata": {},
   "outputs": [],
   "source": []
  }
 ],
 "metadata": {
  "accelerator": "GPU",
  "colab": {
   "collapsed_sections": [],
   "name": "Covid19_GradientCrescent_Binary.ipynb",
   "provenance": []
  },
  "kernelspec": {
   "display_name": "Python 3",
   "language": "python",
   "name": "python3"
  },
  "language_info": {
   "codemirror_mode": {
    "name": "ipython",
    "version": 3
   },
   "file_extension": ".py",
   "mimetype": "text/x-python",
   "name": "python",
   "nbconvert_exporter": "python",
   "pygments_lexer": "ipython3",
   "version": "3.6.10"
  }
 },
 "nbformat": 4,
 "nbformat_minor": 1
}
